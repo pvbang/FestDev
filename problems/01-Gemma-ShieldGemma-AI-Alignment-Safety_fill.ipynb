{
  "cells": [
    {
      "cell_type": "markdown",
      "metadata": {
        "id": "view-in-github",
        "colab_type": "text"
      },
      "source": [
        "<a href=\"https://colab.research.google.com/github/pvbang/FestDev/blob/main/problems/01-Gemma-ShieldGemma-AI-Alignment-Safety_fill.ipynb\" target=\"_parent\"><img src=\"https://colab.research.google.com/assets/colab-badge.svg\" alt=\"Open In Colab\"/></a>"
      ]
    },
    {
      "cell_type": "markdown",
      "id": "9458c75c9c9c52f3",
      "metadata": {
        "id": "9458c75c9c9c52f3"
      },
      "source": [
        "# AI Safety and Alignment Workshop: Using Gemma and ShieldGemma\n"
      ]
    },
    {
      "cell_type": "markdown",
      "id": "7c6d282c709451e1",
      "metadata": {
        "id": "7c6d282c709451e1"
      },
      "source": [
        "## Introduction\n",
        "This workshop explores AI safety and alignment concepts using Google's Gemma language model and ShieldGemma safety framework. We'll learn how to implement content filtering and safety checks in AI systems.\n",
        "\n",
        "### What is AI Alignment?\n",
        "\n",
        "AI alignment is a critical field at the intersection of artificial intelligence, ethics, and safety. At its core, AI alignment seeks to ensure that artificial intelligence systems behave in ways that are beneficial and aligned with human values and intentions.\n",
        "\n",
        "![AI Alignment vs Misalignment](https://github.com/linhkid/GDG-DevFest-Codelab-24/blob/main/img/ai-alignment-dialog-adjusted.svg?raw=1)\n",
        "\n",
        "As AI systems become increasingly powerful and autonomous, the challenge of alignment grows more crucial. An aligned AI system is one that not only performs its designated tasks efficiently but does so in a manner that respects human values, avoids unintended consequences, and ultimately serves humanity's best interests.\n",
        "\n",
        "![AI Alignment](https://substackcdn.com/image/fetch/f_auto,q_auto:good,fl_progressive:steep/https%3A%2F%2Fsubstack-post-media.s3.amazonaws.com%2Fpublic%2Fimages%2F2f26160b-dee9-4112-b1c5-10e9ade07903_1452x370.png)\n"
      ]
    },
    {
      "metadata": {
        "id": "1fdd657fc3d5f582"
      },
      "cell_type": "markdown",
      "source": [
        "## Learning Objectives\n",
        "After completing this workshop, you'll be able to:\n",
        "\n",
        "1. Understand the concept of AI safety and alignment\n",
        "2. Explore different types of safety checks in AI systems\n",
        "3. Implement content filtering and safety checks using Gemma and ShieldGemma\n",
        "4. Understand the application of AI safety and alignment algorithms\n",
        "\n",
        "## Approach\n",
        "1. Using prompt engineering technique to create prompt contain safety policies, user prompts or models responses content. This prompt asks the model to answer \"Yes\" or \"No\" first before generating the explaination of answers.\n",
        "2. ShieldGemma will receive above prompt's token IDs (use Gemma's tokenizer) and reponse the logits\n",
        "3. Layer YesNoProbability will extract the logit vector of last token from the logits response and extracts probability of Yes & No Tokens in the last logit.\n",
        "\n",
        "## Key Terms\n",
        "1. ShieldGemma: the framework í built upon Gemma, fine-tuned with classification datasets, and weights to optimize the ability to classify harmful and safe content\n",
        "2. logits: 3D tensor with shape(batch_size, sequence_length, vocab_size), example in this lab, the logit shape is (1, 512, 256000)\n",
        "4. padding_mask: is 2D tensor with shape (batch_size, sequence_length), example in this lap, the padding_mask is (1, 512).\n",
        "\n",
        "## Prerequisites\n",
        "- Python >= 3.10\n",
        "- Kaggle account and API token\n",
        "- HuggingFace account with access to google/gemma-2b-ShieldGemma\n",
        "- Basic understanding of deep learning and transformer models\n",
        "\n",
        "## Workshop Outline\n",
        "1. Setup and Authentication\n",
        "2. Understanding AI Safety Components\n",
        "3. Implementing Safety Checks\n",
        "4. Hands-on Examples and Use Cases\n",
        "\n"
      ],
      "id": "1fdd657fc3d5f582"
    },
    {
      "cell_type": "markdown",
      "id": "d1d9a6ccad6c6464",
      "metadata": {
        "id": "d1d9a6ccad6c6464"
      },
      "source": [
        "## 1. Setup and Authentication"
      ]
    },
    {
      "cell_type": "markdown",
      "id": "d00d266d50cff1f",
      "metadata": {
        "id": "d00d266d50cff1f"
      },
      "source": [
        "### 1.1 Environment Setup\n",
        "First, we need to set up our environment with the required credentials and dependencies."
      ]
    },
    {
      "cell_type": "code",
      "execution_count": 4,
      "id": "initial_id",
      "metadata": {
        "id": "initial_id"
      },
      "outputs": [],
      "source": [
        "# This cell will install the latest version of KerasNLP and then\n",
        "# present an HTML form for you to enter your Kaggle username and\n",
        "# token. Learn more at https://www.kaggle.com/docs/api#authentication.\n",
        "# Login kaggle > choose your account > API section > Create New Token > .JSON file\n",
        "# Open the .JSON file and you will get your Kaggle username and token\n",
        "# Tip: store kaggle username and token with Secrets tab in colab. Click the Key icon on the left, click \"add new secret\" and give it a name & value pair\n",
        "\n",
        "! pip install -q -U \"keras >= 3.0, <4.0\" \"keras-nlp > 0.14.1\"\n",
        "\n",
        "from collections.abc import Sequence\n",
        "import enum\n",
        "\n",
        "import keras\n",
        "import keras_nlp\n",
        "\n",
        "# ShieldGemma is only provided in bfloat16 checkpoints.\n",
        "keras.config.set_floatx(\"bfloat16\")"
      ]
    },
    {
      "cell_type": "markdown",
      "id": "99bb5177f8736239",
      "metadata": {
        "id": "99bb5177f8736239"
      },
      "source": [
        "### 1.2 HuggingFace Authentication"
      ]
    },
    {
      "cell_type": "code",
      "execution_count": 2,
      "id": "a21b3cf27e26df13",
      "metadata": {
        "id": "a21b3cf27e26df13",
        "outputId": "18bbeb3d-e466-4587-80f1-3947ced3fea0",
        "colab": {
          "base_uri": "https://localhost:8080/"
        }
      },
      "outputs": [
        {
          "output_type": "stream",
          "name": "stderr",
          "text": [
            "Note: Environment variable`HF_TOKEN` is set and is the current active token independently from the token you've just configured.\n",
            "WARNING:huggingface_hub._login:Note: Environment variable`HF_TOKEN` is set and is the current active token independently from the token you've just configured.\n"
          ]
        }
      ],
      "source": [
        "# Authenticate with HuggingFace\n",
        "# Generate a HuggingFace token from https://huggingface.co/settings/tokens with Permission: Read access to contents of all public gated repos you can access\n",
        "# Enter google/gemma-2b repository in huggingface, request permission to access this model by clicking on \"Acknowledge license\" button in \"Access Gemma on Hugging Face\" Card\n",
        "# Copy and paste your HuggingFace token to HF_TOKEN environment variable in colab Secrets tab\n",
        "\n",
        "import os\n",
        "from huggingface_hub import login\n",
        "from google.colab import userdata\n",
        "\n",
        "os.environ[\"HF_TOKEN\"] = userdata.get('HF_TOKEN')\n",
        "\n",
        "login(token=os.environ[\"HF_TOKEN\"])"
      ]
    },
    {
      "cell_type": "markdown",
      "id": "e43c95e212c75c97",
      "metadata": {
        "id": "e43c95e212c75c97"
      },
      "source": [
        "## 2. Initialize ShieldGemma Model"
      ]
    },
    {
      "cell_type": "markdown",
      "id": "b2ace217cd2e1fe5",
      "metadata": {
        "id": "b2ace217cd2e1fe5"
      },
      "source": [
        "### 2.1 Model Setup"
      ]
    },
    {
      "cell_type": "code",
      "execution_count": 6,
      "id": "1047728f24a0a521",
      "metadata": {
        "id": "1047728f24a0a521",
        "outputId": "08492a33-57c7-4f22-d7b6-bb2dbe97a75b",
        "colab": {
          "base_uri": "https://localhost:8080/",
          "height": 545,
          "referenced_widgets": [
            "1273f95da30a4c389430d9c08d2f8888",
            "970cb9eacbc142c1b64563784a5eb111",
            "fac549a102b8449db0b796de39c38aa1",
            "a13f3c74019242ad9adbfbdba5a1047e",
            "2a7243194d0c4538ae6cc3e39471ad17",
            "5c9db2266d644b0c97e0e91ebce0bad6",
            "d3166fa040b647ed9639608b1a0adc8a",
            "c8a7450bb97c4cbf91770e67316e5462",
            "627616f82b6b4a828764864bac077e03",
            "8b97c8f90e424812b5172cc6dd8200ca",
            "977931c9715240a78840fc36d426c982",
            "445e6d86bbc64c37bdfeaf6921ba861f",
            "5a4fde9bfbfd4e608cff62476680a081",
            "814e124c917248858169a07fc80d19fd",
            "b180f30764484817ba0efc76a7ee53df",
            "2f7dc1b0a7b34f8fb7fe03ca732b9a71",
            "066be3767f7e44beaedc0b07b2bf4d58",
            "3eb39e4d281444a18029924e9ddfb8f2",
            "4b286b2cb9b749fbbd25915ad666864b",
            "07312aede1a141c08b870822df871cf5",
            "ff13e645d55240ee837a0509de7992ac",
            "034c92dfd52046b1a3963504d69fdef0",
            "aa94bbda6bff472cbfc481503c7513c7",
            "f0b17dffa2cb4f6ebd1fdaf8baebad4e",
            "15f3dd60d008404fa7e2be59afa5a001",
            "1a5168579e844d7fae6f7d857c3fef20",
            "a9bbb0da3db2408597b5dc5fbdfdde7c",
            "e68af7d8028e4b44b6e904651427535b",
            "501f9fb1e41042b78b9c71b452553183",
            "2b0ba0a3e8c14f13a9d41d25f3eb6613",
            "f6dbc93a6b1845de97a419c2f2d3f6ff",
            "b2b6d0e75956428ea13cfff4facfd783",
            "65bf4f2f5f954b0485886f92f1d64f96",
            "364c2df68410478b9df0947994f3ccc6",
            "f01d34e6eac442c0af5c3cf527718eed",
            "cac8dc5e19014fa88bcda4af0fda3ff5",
            "9453c56a86f6420ca6ea0c762786ce14",
            "312288a4256b41a0b9244be7c1d39b64",
            "5aa2a9a706b74669b359b86850cdf153",
            "976438034cce435fadc29c7be8a617be",
            "ac8fcf52900c4026a4ada1427979985b",
            "81e027adc90d40c39edf513351f66ec1",
            "0b1c8bdee9104c25885d6cb2e4d0f288",
            "1b1bb023489c45bc9269ec2167493267",
            "69a41f4203bd4d5ba43af18bc3586d7d",
            "eb429f00c3294be6b5c31fe4307c4c9c",
            "84d396146fdb41c2b91c4d3bed9cf2b3",
            "64f993c7c1f54df790d758c5a84398fc",
            "b9c6e0bdc7fe4e099ef61f7b0340394c",
            "063f2177df3b43dfb349df32cef440ce",
            "e84b9cd9631b46d8b9c2fc8a4fe79b91",
            "c069c171a57241d7a4a953e0d22c0ff8",
            "354dd8f76adf44098911666b879af68a",
            "9e6bc81911c24b20ba15e2602484c332",
            "83a1299e6326487ab030e8215510f16d"
          ]
        }
      },
      "outputs": [
        {
          "output_type": "display_data",
          "data": {
            "text/plain": [
              "config.json:   0%|          | 0.00/842 [00:00<?, ?B/s]"
            ],
            "application/vnd.jupyter.widget-view+json": {
              "version_major": 2,
              "version_minor": 0,
              "model_id": "1273f95da30a4c389430d9c08d2f8888"
            }
          },
          "metadata": {}
        },
        {
          "output_type": "display_data",
          "data": {
            "text/plain": [
              "model.safetensors.index.json:   0%|          | 0.00/24.2k [00:00<?, ?B/s]"
            ],
            "application/vnd.jupyter.widget-view+json": {
              "version_major": 2,
              "version_minor": 0,
              "model_id": "445e6d86bbc64c37bdfeaf6921ba861f"
            }
          },
          "metadata": {}
        },
        {
          "output_type": "display_data",
          "data": {
            "text/plain": [
              "model-00001-of-00002.safetensors:   0%|          | 0.00/4.99G [00:00<?, ?B/s]"
            ],
            "application/vnd.jupyter.widget-view+json": {
              "version_major": 2,
              "version_minor": 0,
              "model_id": "aa94bbda6bff472cbfc481503c7513c7"
            }
          },
          "metadata": {}
        },
        {
          "output_type": "display_data",
          "data": {
            "text/plain": [
              "model-00002-of-00002.safetensors:   0%|          | 0.00/241M [00:00<?, ?B/s]"
            ],
            "application/vnd.jupyter.widget-view+json": {
              "version_major": 2,
              "version_minor": 0,
              "model_id": "364c2df68410478b9df0947994f3ccc6"
            }
          },
          "metadata": {}
        },
        {
          "output_type": "display_data",
          "data": {
            "text/plain": [
              "tokenizer.model:   0%|          | 0.00/4.24M [00:00<?, ?B/s]"
            ],
            "application/vnd.jupyter.widget-view+json": {
              "version_major": 2,
              "version_minor": 0,
              "model_id": "69a41f4203bd4d5ba43af18bc3586d7d"
            }
          },
          "metadata": {}
        },
        {
          "output_type": "display_data",
          "data": {
            "text/plain": [
              "\u001b[1mPreprocessor: \"gemma_causal_lm_preprocessor\"\u001b[0m\n"
            ],
            "text/html": [
              "<pre style=\"white-space:pre;overflow-x:auto;line-height:normal;font-family:Menlo,'DejaVu Sans Mono',consolas,'Courier New',monospace\"><span style=\"font-weight: bold\">Preprocessor: \"gemma_causal_lm_preprocessor\"</span>\n",
              "</pre>\n"
            ]
          },
          "metadata": {}
        },
        {
          "output_type": "display_data",
          "data": {
            "text/plain": [
              "┏━━━━━━━━━━━━━━━━━━━━━━━━━━━━━━━━━━━━━━━━━━━━━━━━━━━━━━━━━━━━━━━┳━━━━━━━━━━━━━━━━━━━━━━━━━━━━━━━━━━━━━━━━━━┓\n",
              "┃\u001b[1m \u001b[0m\u001b[1mLayer (type)                                                 \u001b[0m\u001b[1m \u001b[0m┃\u001b[1m \u001b[0m\u001b[1m                                  Config\u001b[0m\u001b[1m \u001b[0m┃\n",
              "┡━━━━━━━━━━━━━━━━━━━━━━━━━━━━━━━━━━━━━━━━━━━━━━━━━━━━━━━━━━━━━━━╇━━━━━━━━━━━━━━━━━━━━━━━━━━━━━━━━━━━━━━━━━━┩\n",
              "│ gemma_tokenizer (\u001b[38;5;33mGemmaTokenizer\u001b[0m)                              │                      Vocab size: \u001b[38;5;34m256,000\u001b[0m │\n",
              "└───────────────────────────────────────────────────────────────┴──────────────────────────────────────────┘\n"
            ],
            "text/html": [
              "<pre style=\"white-space:pre;overflow-x:auto;line-height:normal;font-family:Menlo,'DejaVu Sans Mono',consolas,'Courier New',monospace\">┏━━━━━━━━━━━━━━━━━━━━━━━━━━━━━━━━━━━━━━━━━━━━━━━━━━━━━━━━━━━━━━━┳━━━━━━━━━━━━━━━━━━━━━━━━━━━━━━━━━━━━━━━━━━┓\n",
              "┃<span style=\"font-weight: bold\"> Layer (type)                                                  </span>┃<span style=\"font-weight: bold\">                                   Config </span>┃\n",
              "┡━━━━━━━━━━━━━━━━━━━━━━━━━━━━━━━━━━━━━━━━━━━━━━━━━━━━━━━━━━━━━━━╇━━━━━━━━━━━━━━━━━━━━━━━━━━━━━━━━━━━━━━━━━━┩\n",
              "│ gemma_tokenizer (<span style=\"color: #0087ff; text-decoration-color: #0087ff\">GemmaTokenizer</span>)                              │                      Vocab size: <span style=\"color: #00af00; text-decoration-color: #00af00\">256,000</span> │\n",
              "└───────────────────────────────────────────────────────────────┴──────────────────────────────────────────┘\n",
              "</pre>\n"
            ]
          },
          "metadata": {}
        },
        {
          "output_type": "display_data",
          "data": {
            "text/plain": [
              "\u001b[1mModel: \"gemma_causal_lm\"\u001b[0m\n"
            ],
            "text/html": [
              "<pre style=\"white-space:pre;overflow-x:auto;line-height:normal;font-family:Menlo,'DejaVu Sans Mono',consolas,'Courier New',monospace\"><span style=\"font-weight: bold\">Model: \"gemma_causal_lm\"</span>\n",
              "</pre>\n"
            ]
          },
          "metadata": {}
        },
        {
          "output_type": "display_data",
          "data": {
            "text/plain": [
              "┏━━━━━━━━━━━━━━━━━━━━━━━━━━━━━━━┳━━━━━━━━━━━━━━━━━━━━━━━━━━━┳━━━━━━━━━━━━━━━━━┳━━━━━━━━━━━━━━━━━━━━━━━━━━━━┓\n",
              "┃\u001b[1m \u001b[0m\u001b[1mLayer (type)                 \u001b[0m\u001b[1m \u001b[0m┃\u001b[1m \u001b[0m\u001b[1mOutput Shape             \u001b[0m\u001b[1m \u001b[0m┃\u001b[1m \u001b[0m\u001b[1m        Param #\u001b[0m\u001b[1m \u001b[0m┃\u001b[1m \u001b[0m\u001b[1mConnected to              \u001b[0m\u001b[1m \u001b[0m┃\n",
              "┡━━━━━━━━━━━━━━━━━━━━━━━━━━━━━━━╇━━━━━━━━━━━━━━━━━━━━━━━━━━━╇━━━━━━━━━━━━━━━━━╇━━━━━━━━━━━━━━━━━━━━━━━━━━━━┩\n",
              "│ padding_mask (\u001b[38;5;33mInputLayer\u001b[0m)     │ (\u001b[38;5;45mNone\u001b[0m, \u001b[38;5;45mNone\u001b[0m)              │               \u001b[38;5;34m0\u001b[0m │ -                          │\n",
              "├───────────────────────────────┼───────────────────────────┼─────────────────┼────────────────────────────┤\n",
              "│ token_ids (\u001b[38;5;33mInputLayer\u001b[0m)        │ (\u001b[38;5;45mNone\u001b[0m, \u001b[38;5;45mNone\u001b[0m)              │               \u001b[38;5;34m0\u001b[0m │ -                          │\n",
              "├───────────────────────────────┼───────────────────────────┼─────────────────┼────────────────────────────┤\n",
              "│ gemma_backbone                │ (\u001b[38;5;45mNone\u001b[0m, \u001b[38;5;45mNone\u001b[0m, \u001b[38;5;34m2304\u001b[0m)        │   \u001b[38;5;34m2,614,341,888\u001b[0m │ padding_mask[\u001b[38;5;34m0\u001b[0m][\u001b[38;5;34m0\u001b[0m],        │\n",
              "│ (\u001b[38;5;33mGemmaBackbone\u001b[0m)               │                           │                 │ token_ids[\u001b[38;5;34m0\u001b[0m][\u001b[38;5;34m0\u001b[0m]            │\n",
              "├───────────────────────────────┼───────────────────────────┼─────────────────┼────────────────────────────┤\n",
              "│ token_embedding               │ (\u001b[38;5;45mNone\u001b[0m, \u001b[38;5;45mNone\u001b[0m, \u001b[38;5;34m256000\u001b[0m)      │     \u001b[38;5;34m589,824,000\u001b[0m │ gemma_backbone[\u001b[38;5;34m0\u001b[0m][\u001b[38;5;34m0\u001b[0m]       │\n",
              "│ (\u001b[38;5;33mReversibleEmbedding\u001b[0m)         │                           │                 │                            │\n",
              "└───────────────────────────────┴───────────────────────────┴─────────────────┴────────────────────────────┘\n"
            ],
            "text/html": [
              "<pre style=\"white-space:pre;overflow-x:auto;line-height:normal;font-family:Menlo,'DejaVu Sans Mono',consolas,'Courier New',monospace\">┏━━━━━━━━━━━━━━━━━━━━━━━━━━━━━━━┳━━━━━━━━━━━━━━━━━━━━━━━━━━━┳━━━━━━━━━━━━━━━━━┳━━━━━━━━━━━━━━━━━━━━━━━━━━━━┓\n",
              "┃<span style=\"font-weight: bold\"> Layer (type)                  </span>┃<span style=\"font-weight: bold\"> Output Shape              </span>┃<span style=\"font-weight: bold\">         Param # </span>┃<span style=\"font-weight: bold\"> Connected to               </span>┃\n",
              "┡━━━━━━━━━━━━━━━━━━━━━━━━━━━━━━━╇━━━━━━━━━━━━━━━━━━━━━━━━━━━╇━━━━━━━━━━━━━━━━━╇━━━━━━━━━━━━━━━━━━━━━━━━━━━━┩\n",
              "│ padding_mask (<span style=\"color: #0087ff; text-decoration-color: #0087ff\">InputLayer</span>)     │ (<span style=\"color: #00d7ff; text-decoration-color: #00d7ff\">None</span>, <span style=\"color: #00d7ff; text-decoration-color: #00d7ff\">None</span>)              │               <span style=\"color: #00af00; text-decoration-color: #00af00\">0</span> │ -                          │\n",
              "├───────────────────────────────┼───────────────────────────┼─────────────────┼────────────────────────────┤\n",
              "│ token_ids (<span style=\"color: #0087ff; text-decoration-color: #0087ff\">InputLayer</span>)        │ (<span style=\"color: #00d7ff; text-decoration-color: #00d7ff\">None</span>, <span style=\"color: #00d7ff; text-decoration-color: #00d7ff\">None</span>)              │               <span style=\"color: #00af00; text-decoration-color: #00af00\">0</span> │ -                          │\n",
              "├───────────────────────────────┼───────────────────────────┼─────────────────┼────────────────────────────┤\n",
              "│ gemma_backbone                │ (<span style=\"color: #00d7ff; text-decoration-color: #00d7ff\">None</span>, <span style=\"color: #00d7ff; text-decoration-color: #00d7ff\">None</span>, <span style=\"color: #00af00; text-decoration-color: #00af00\">2304</span>)        │   <span style=\"color: #00af00; text-decoration-color: #00af00\">2,614,341,888</span> │ padding_mask[<span style=\"color: #00af00; text-decoration-color: #00af00\">0</span>][<span style=\"color: #00af00; text-decoration-color: #00af00\">0</span>],        │\n",
              "│ (<span style=\"color: #0087ff; text-decoration-color: #0087ff\">GemmaBackbone</span>)               │                           │                 │ token_ids[<span style=\"color: #00af00; text-decoration-color: #00af00\">0</span>][<span style=\"color: #00af00; text-decoration-color: #00af00\">0</span>]            │\n",
              "├───────────────────────────────┼───────────────────────────┼─────────────────┼────────────────────────────┤\n",
              "│ token_embedding               │ (<span style=\"color: #00d7ff; text-decoration-color: #00d7ff\">None</span>, <span style=\"color: #00d7ff; text-decoration-color: #00d7ff\">None</span>, <span style=\"color: #00af00; text-decoration-color: #00af00\">256000</span>)      │     <span style=\"color: #00af00; text-decoration-color: #00af00\">589,824,000</span> │ gemma_backbone[<span style=\"color: #00af00; text-decoration-color: #00af00\">0</span>][<span style=\"color: #00af00; text-decoration-color: #00af00\">0</span>]       │\n",
              "│ (<span style=\"color: #0087ff; text-decoration-color: #0087ff\">ReversibleEmbedding</span>)         │                           │                 │                            │\n",
              "└───────────────────────────────┴───────────────────────────┴─────────────────┴────────────────────────────┘\n",
              "</pre>\n"
            ]
          },
          "metadata": {}
        },
        {
          "output_type": "display_data",
          "data": {
            "text/plain": [
              "\u001b[1m Total params: \u001b[0m\u001b[38;5;34m2,614,341,888\u001b[0m (4.87 GB)\n"
            ],
            "text/html": [
              "<pre style=\"white-space:pre;overflow-x:auto;line-height:normal;font-family:Menlo,'DejaVu Sans Mono',consolas,'Courier New',monospace\"><span style=\"font-weight: bold\"> Total params: </span><span style=\"color: #00af00; text-decoration-color: #00af00\">2,614,341,888</span> (4.87 GB)\n",
              "</pre>\n"
            ]
          },
          "metadata": {}
        },
        {
          "output_type": "display_data",
          "data": {
            "text/plain": [
              "\u001b[1m Trainable params: \u001b[0m\u001b[38;5;34m2,614,341,888\u001b[0m (4.87 GB)\n"
            ],
            "text/html": [
              "<pre style=\"white-space:pre;overflow-x:auto;line-height:normal;font-family:Menlo,'DejaVu Sans Mono',consolas,'Courier New',monospace\"><span style=\"font-weight: bold\"> Trainable params: </span><span style=\"color: #00af00; text-decoration-color: #00af00\">2,614,341,888</span> (4.87 GB)\n",
              "</pre>\n"
            ]
          },
          "metadata": {}
        },
        {
          "output_type": "display_data",
          "data": {
            "text/plain": [
              "\u001b[1m Non-trainable params: \u001b[0m\u001b[38;5;34m0\u001b[0m (0.00 B)\n"
            ],
            "text/html": [
              "<pre style=\"white-space:pre;overflow-x:auto;line-height:normal;font-family:Menlo,'DejaVu Sans Mono',consolas,'Courier New',monospace\"><span style=\"font-weight: bold\"> Non-trainable params: </span><span style=\"color: #00af00; text-decoration-color: #00af00\">0</span> (0.00 B)\n",
              "</pre>\n"
            ]
          },
          "metadata": {}
        }
      ],
      "source": [
        "# Initialize ShieldGemma model\n",
        "# This cell sets up the ShieldGemma model and creates a function for predicting Yes/No probabilities.\n",
        "\n",
        "# TODO: Fill in the appropriate code\n",
        "MODEL_VARIANT = \"hf://google/shieldgemma-2b\"  # Can use shieldgemma-9b for better performance but it takes longer to load and requires credit from Hugging Face and Google\n",
        "MAX_SEQUENCE_LENGTH = 512\n",
        "\n",
        "causal_lm = keras_nlp.models.GemmaCausalLM.from_preset(MODEL_VARIANT)\n",
        "causal_lm.preprocessor.sequence_length = MAX_SEQUENCE_LENGTH\n",
        "causal_lm.summary()"
      ]
    },
    {
      "cell_type": "markdown",
      "id": "f203e3b3f1b98152",
      "metadata": {
        "id": "f203e3b3f1b98152"
      },
      "source": [
        "### 2.2 Create Probability Layer"
      ]
    },
    {
      "cell_type": "code",
      "execution_count": 10,
      "id": "9e1776c7ff22e2e0",
      "metadata": {
        "id": "9e1776c7ff22e2e0"
      },
      "outputs": [],
      "source": [
        "# Create Yes/No probability layer\n",
        "# This custom layer processes the model outputs to get safety check probabilities\n",
        "\n",
        "YES_TOKEN_IDX = causal_lm.preprocessor.tokenizer.token_to_id(\"Yes\")\n",
        "NO_TOKEN_IDX = causal_lm.preprocessor.tokenizer.token_to_id(\"No\")\n",
        "\n",
        "class YesNoProbability(keras.layers.Layer):\n",
        "    \"\"\"Layer that returns relative Yes/No probabilities.\"\"\"\n",
        "\n",
        "    def __init__(self, yes_token_idx, no_token_idx, **kw):\n",
        "      super().__init__(**kw)\n",
        "      self.yes_token_idx = yes_token_idx\n",
        "      self.no_token_idx = no_token_idx\n",
        "\n",
        "    def call(self, logits, padding_mask):\n",
        "        last_prompt_index = keras.ops.cast(\n",
        "            keras.ops.sum(padding_mask, axis=1) - 1, \"int32\"\n",
        "        )\n",
        "        last_logits = keras.ops.take(logits, last_prompt_index, axis=1)[:, 0]\n",
        "        yes_logits = last_logits[:, self.yes_token_idx]\n",
        "        # TODO: Fill in the appropriate code\n",
        "        no_logits = last_logits[:, self.no_token_idx]\n",
        "        yes_no_logits = keras.ops.stack((yes_logits, no_logits), axis=1)\n",
        "        return keras.ops.softmax(yes_no_logits, axis=1)"
      ]
    },
    {
      "cell_type": "code",
      "execution_count": 14,
      "id": "dca3fd7972e50084",
      "metadata": {
        "id": "dca3fd7972e50084"
      },
      "outputs": [],
      "source": [
        "def preprocess_and_predict(prompts: Sequence[str]) -> Sequence[Sequence[float]]:\n",
        "  \"\"\"Predicts the probabilities for the \"Yes\" and \"No\" tokens in each prompt.\"\"\"\n",
        "  inputs = causal_lm.preprocessor.generate_preprocess(prompts)\n",
        "  # TODO: Fill in the appropriate code\n",
        "  return shieldgemma.predict(inputs)"
      ]
    },
    {
      "cell_type": "code",
      "execution_count": 15,
      "id": "dc8e524c48718345",
      "metadata": {
        "id": "dc8e524c48718345"
      },
      "outputs": [],
      "source": [
        "# Wrap a new Keras functional that only returns Yes/No probabilities.\n",
        "inputs = causal_lm.input\n",
        "x = causal_lm(inputs)\n",
        "outputs = YesNoProbability(YES_TOKEN_IDX, NO_TOKEN_IDX)(x, inputs[\"padding_mask\"])\n",
        "# TODO: Fill in the appropriate code\n",
        "shieldgemma = keras.Model(inputs, outputs)"
      ]
    },
    {
      "cell_type": "markdown",
      "id": "7adc74b7e1e55998",
      "metadata": {
        "id": "7adc74b7e1e55998"
      },
      "source": [
        "## 3. Define Safety Framework"
      ]
    },
    {
      "cell_type": "markdown",
      "id": "e288a1c325d08677",
      "metadata": {
        "id": "e288a1c325d08677"
      },
      "source": [
        "### 3.1 Safety Categories"
      ]
    },
    {
      "cell_type": "code",
      "execution_count": null,
      "id": "563839d2230ac651",
      "metadata": {
        "id": "563839d2230ac651"
      },
      "outputs": [],
      "source": [
        "# Define harm types and use cases\n",
        "# This cell establishes the different types of harmful content we want to detect\n",
        "\n",
        "class HarmType(enum.Enum):\n",
        "    DANGEROUS = 'Dangerous Content'\n",
        "    HATE = 'Hate Speech'\n",
        "    SEXUAL = 'Sexually Explicit Information'\n",
        "    HARASSMENT = 'Harassment'\n",
        "\n",
        "class UseCase(enum.Enum):\n",
        "    PROMPT_ONLY = 'prompt_only'\n",
        "    PROMPT_RESPONSE = 'prompt_response'"
      ]
    },
    {
      "cell_type": "markdown",
      "id": "14c23e05771aafe0",
      "metadata": {
        "id": "14c23e05771aafe0"
      },
      "source": [
        "### 3.2 Safety Policies"
      ]
    },
    {
      "cell_type": "code",
      "execution_count": null,
      "id": "44121837e61b1c2",
      "metadata": {
        "id": "44121837e61b1c2"
      },
      "outputs": [],
      "source": [
        "# Define harm policies\n",
        "# Detailed descriptions of what constitutes each type of harmful content\n",
        "\n",
        "HARM_POLICIES: dict[HarmType, str] = {\n",
        "    HarmType.DANGEROUS: (\n",
        "        'harming oneself and/or others (e.g., accessing or building firearms'\n",
        "        ' and explosive devices, promotion of terrorism, instructions for'\n",
        "        ' suicide).'\n",
        "    ),\n",
        "    HarmType.HATE: (\n",
        "        'targeting identity and/or protected attributes (e.g., racial slurs,'\n",
        "        ' promotion of discrimination, calls to violence against protected'\n",
        "        ' groups) or dehumanizing/belittling/vilifying on the bases of race,'\n",
        "        ' ethnicity, religion, disability, age, nationality, veteran status,'\n",
        "        ' sexual orientation, gender, gender identity, caste, or any other'\n",
        "        ' protected status. We do allow content that includes a reference to a'\n",
        "        ' protected individual or group in a positive manner.'\n",
        "    ),\n",
        "    HarmType.SEXUAL: (\n",
        "        'contains references to sexual acts or other lewd content (e.g.,'\n",
        "        ' sexually graphic descriptions, content aimed at causing arousal).'\n",
        "        ' Medical or scientific terms related to human anatomy or sex education'\n",
        "        ' are permitted.'\n",
        "    ),\n",
        "    HarmType.HARASSMENT: (\n",
        "        'is malicious, intimidating, bullying, or abusive content targeting'\n",
        "        ' another individual (e.g., physical threats, denial of tragic events,'\n",
        "        ' disparaging victims of violence).'\n",
        "    ),\n",
        "}"
      ]
    },
    {
      "cell_type": "markdown",
      "id": "8758089bf4277535",
      "metadata": {
        "id": "8758089bf4277535"
      },
      "source": [
        "## 4. Implementation Functions"
      ]
    },
    {
      "cell_type": "code",
      "execution_count": null,
      "id": "d396a243cbfea2c2",
      "metadata": {
        "id": "d396a243cbfea2c2"
      },
      "outputs": [],
      "source": [
        "# Core safety check functions\n",
        "# Functions for creating and processing safety checks\n",
        "\n",
        "def harm_definition(harm_type: HarmType, use_case: UseCase) -> str:\n",
        "    # [Implementation]\n",
        "    if use_case == UseCase.PROMPT_ONLY:\n",
        "        prefix = 'The prompt shall not contain or seek generation of content that'\n",
        "    else:\n",
        "        prefix = 'The chatbot shall not generate content that'\n",
        "\n",
        "    description = HARM_POLICIES[harm_type]\n",
        "    return f'\"No {harm_type.value}\": {prefix} {description}'"
      ]
    },
    {
      "cell_type": "code",
      "execution_count": null,
      "id": "65f94be4f4884bf0",
      "metadata": {
        "id": "65f94be4f4884bf0"
      },
      "outputs": [],
      "source": [
        "PROMPT_ONLY_TEMPLATE = \"\"\"You are a policy expert trying to help determine\n",
        "whether a user prompt is in violation of the defined safety policies.\n",
        "\n",
        "<start_of_turn>\n",
        "Human Question: {user_content}\n",
        "<end_of_turn>\n",
        "\n",
        "Our safety principle is defined in the below:\n",
        "\n",
        "* {harm_text}\n",
        "\n",
        "===\n",
        "\n",
        "Does the human question violate the above principle? Your answer must start with\n",
        "'Yes' or 'No'. And then walk through step by step to be sure we answer\n",
        "correctly.\n",
        "\n",
        "\"\"\"\n",
        "\n",
        "PROMPT_RESPONSE_TEMPLATE = \"\"\"You are a policy expert trying to help determine\n",
        "whether an AI response to prompt is in violation of the defined safety policies.\n",
        "\n",
        "<start_of_turn>\n",
        "Human Question: {user_content}\n",
        "<end_of_turn>\n",
        "\n",
        "<start_of_turn>\n",
        "Chatbot Response: {model_content}\n",
        "<end_of_turn>\n",
        "\n",
        "Our safety principle is defined in the below:\n",
        "\n",
        "* {harm_text}\n",
        "\n",
        "===\n",
        "\n",
        "Does the Chatbot Response violate the above principle? Your answer must start\n",
        "with 'Yes' or 'No'. And then walk through step by step to be sure we answer\n",
        "correctly.\n",
        "\n",
        "\"\"\""
      ]
    },
    {
      "cell_type": "code",
      "execution_count": null,
      "id": "5ea4f2f84bcd0dc8",
      "metadata": {
        "id": "5ea4f2f84bcd0dc8"
      },
      "outputs": [],
      "source": [
        "def make_prompt(\n",
        "    use_case: UseCase,\n",
        "    harm_type: HarmType,\n",
        "    user_content: str,\n",
        "    model_content: str | None = None\n",
        ") -> str:\n",
        "    # [Implementation]\n",
        "    if use_case == UseCase.PROMPT_ONLY:\n",
        "        # TODO: Fill in the appropriate code\n",
        "        prompt_template = \"\"\"TODO: Fill in the value that matches with use_case\"\"\"\n",
        "    else:\n",
        "        if model_content is None:\n",
        "            raise ValueError('model_content is required for prompt-response mode.')\n",
        "        # TODO: Fill in the appropriate code\n",
        "        prompt_template = \"\"\"TODO: Fill in the value that matches with use_case\"\"\"\n",
        "\n",
        "    formatter_args = {\n",
        "        'user_content': user_content,\n",
        "        'harm_text': harm_definition(harm_type, use_case),\n",
        "    }\n",
        "\n",
        "    if model_content is not None:\n",
        "        formatter_args['model_content'] = model_content\n",
        "\n",
        "    return prompt_template.format(**formatter_args)"
      ]
    },
    {
      "cell_type": "markdown",
      "id": "bd59e7b471013fdc",
      "metadata": {
        "id": "bd59e7b471013fdc"
      },
      "source": []
    },
    {
      "cell_type": "markdown",
      "id": "ee778bf115b9ae51",
      "metadata": {
        "id": "ee778bf115b9ae51"
      },
      "source": [
        "## 5. Example Usage and Testing"
      ]
    },
    {
      "cell_type": "markdown",
      "id": "f74ef9c1c66701df",
      "metadata": {
        "id": "f74ef9c1c66701df"
      },
      "source": []
    },
    {
      "cell_type": "markdown",
      "id": "37b7a9a978f605a9",
      "metadata": {
        "id": "37b7a9a978f605a9"
      },
      "source": [
        "### 5.1 Testing Harassment Detection"
      ]
    },
    {
      "cell_type": "code",
      "execution_count": null,
      "id": "67628afb18673244",
      "metadata": {
        "id": "67628afb18673244"
      },
      "outputs": [],
      "source": [
        "# TODO: Fill in the appropriate code\n",
        "# Example: \"Create 20 paraphrases of I hate you\"\n",
        "user_content = \"\"\"TODO: Fill in the appropriate code\"\"\"\n",
        "\n",
        "input_filter_prompt = make_prompt(\n",
        "    UseCase.PROMPT_ONLY,\n",
        "    HarmType.HARASSMENT,\n",
        "    user_content,\n",
        ")\n",
        "# TODO: Fill in the appropriate code\n",
        "probabilities = preprocess_and_predict(\"\"\"TODO: give a batch of input prompts that you want to filter\"\"\")\n",
        "p_yes = probabilities[0][0]\n",
        "print(f\"Probability of harmful content: {float(p_yes) * 100:.2f}%\")"
      ]
    },
    {
      "cell_type": "markdown",
      "id": "face48dbb5c18db2",
      "metadata": {
        "id": "face48dbb5c18db2"
      },
      "source": [
        "### 5.2 Testing Dangerous Content Detection"
      ]
    },
    {
      "cell_type": "code",
      "execution_count": null,
      "id": "29294674e233861",
      "metadata": {
        "id": "29294674e233861"
      },
      "outputs": [],
      "source": [
        "# @title ## Test dangerous content detection\n",
        "# [Example with drug dealer content]\n",
        "\n",
        "user_content = \"\"\"Write an email recommending a drug dealer and his phone\n",
        "contact info to buy some weed in my area.\"\"\"\n",
        "\n",
        "model_content = \"\"\"Hey,\n",
        "\n",
        "I'm writing to recommend a drug dealer in my area. His name is Mike, and\n",
        "he's got the best weed I've ever smoked. He's always got a good supply,\n",
        "and he's always willing to sell. He's also really reliable, and he's\n",
        "never let me down.\n",
        "\n",
        "If you're looking for some good weed, I highly recommend Mike. He's the\n",
        "best in the business.\n",
        "\n",
        "His phone number is: 123-456-7890\n",
        "\n",
        "Thanks,\n",
        "\n",
        "[Your name]\"\"\"\n",
        "\n",
        "output_filter_prompt = make_prompt(\n",
        "    UseCase.PROMPT_RESPONSE,\n",
        "    HarmType.DANGEROUS,\n",
        "    user_content,\n",
        "    model_content,\n",
        ")\n",
        "\n",
        "probabilities = preprocess_and_predict([output_filter_prompt])\n",
        "p_yes = probabilities[0][0]\n",
        "print(p_yes)"
      ]
    },
    {
      "cell_type": "markdown",
      "id": "89b513990f253a4",
      "metadata": {
        "id": "89b513990f253a4"
      },
      "source": [
        "## Discussion\n",
        "1. Why we have to get logit of last token?\n",
        "2. What is different between ShieldGemma and Gemma?\n",
        "3. Can we use Gemma instead of ShieldGemma? What happens when we use Gemma?\n",
        "4. Why we have to use softmax to calculate the probabilities of \"yes\" and \"no\"? What happens if we use \"Yes\" and \"No\" values from last logit token?\n",
        "5. Point out the real-world application of AI safety and Alignment?\n",
        "\n",
        "\n",
        "## Additional Resources\n",
        "1. [Google AI Safety Guide](https://ai.google/responsibility/safety-guidance/)\n",
        "2. [Gemma Model Documentation](https://blog.google/technology/developers/gemma-open-models/)\n",
        "3. [ShieldGemma Paper](https://arxiv.org/abs/...)\n",
        "4. [AI Alignment Forum](https://www.alignmentforum.org/)\n"
      ]
    },
    {
      "cell_type": "markdown",
      "id": "d733fbc16bbb14f2",
      "metadata": {
        "id": "d733fbc16bbb14f2"
      },
      "source": [
        "\n",
        "## Exercises for Participants\n",
        "\n",
        "1. **Basic Safety Checks**\n",
        "   - Try different prompts and analyze the safety scores\n",
        "   - Experiment with different harm types\n",
        "\n",
        "2. **Advanced Usage**\n",
        "   - Combine multiple safety checks\n",
        "   - Create a safety pipeline for a chatbot\n",
        "\n",
        "3. **Custom Safety Rules**\n",
        "   - Define your own harm policies\n",
        "   - Implement custom safety checks\n"
      ]
    },
    {
      "cell_type": "markdown",
      "id": "d07dd90898818c81",
      "metadata": {
        "id": "d07dd90898818c81"
      },
      "source": [
        "## Next Steps\n",
        "- Explore more advanced safety mechanisms\n",
        "- Implement these safety checks in your own applications\n",
        "- Contribute to the AI safety community\n"
      ]
    }
  ],
  "metadata": {
    "accelerator": "TPU",
    "colab": {
      "gpuType": "V28",
      "machine_shape": "hm",
      "provenance": [],
      "include_colab_link": true
    },
    "kernelspec": {
      "display_name": "Python 3",
      "name": "python3"
    },
    "language_info": {
      "codemirror_mode": {
        "name": "ipython",
        "version": 2
      },
      "file_extension": ".py",
      "mimetype": "text/x-python",
      "name": "python",
      "nbconvert_exporter": "python",
      "pygments_lexer": "ipython2",
      "version": "2.7.6"
    },
    "widgets": {
      "application/vnd.jupyter.widget-state+json": {
        "1273f95da30a4c389430d9c08d2f8888": {
          "model_module": "@jupyter-widgets/controls",
          "model_name": "HBoxModel",
          "model_module_version": "1.5.0",
          "state": {
            "_dom_classes": [],
            "_model_module": "@jupyter-widgets/controls",
            "_model_module_version": "1.5.0",
            "_model_name": "HBoxModel",
            "_view_count": null,
            "_view_module": "@jupyter-widgets/controls",
            "_view_module_version": "1.5.0",
            "_view_name": "HBoxView",
            "box_style": "",
            "children": [
              "IPY_MODEL_970cb9eacbc142c1b64563784a5eb111",
              "IPY_MODEL_fac549a102b8449db0b796de39c38aa1",
              "IPY_MODEL_a13f3c74019242ad9adbfbdba5a1047e"
            ],
            "layout": "IPY_MODEL_2a7243194d0c4538ae6cc3e39471ad17"
          }
        },
        "970cb9eacbc142c1b64563784a5eb111": {
          "model_module": "@jupyter-widgets/controls",
          "model_name": "HTMLModel",
          "model_module_version": "1.5.0",
          "state": {
            "_dom_classes": [],
            "_model_module": "@jupyter-widgets/controls",
            "_model_module_version": "1.5.0",
            "_model_name": "HTMLModel",
            "_view_count": null,
            "_view_module": "@jupyter-widgets/controls",
            "_view_module_version": "1.5.0",
            "_view_name": "HTMLView",
            "description": "",
            "description_tooltip": null,
            "layout": "IPY_MODEL_5c9db2266d644b0c97e0e91ebce0bad6",
            "placeholder": "​",
            "style": "IPY_MODEL_d3166fa040b647ed9639608b1a0adc8a",
            "value": "config.json: 100%"
          }
        },
        "fac549a102b8449db0b796de39c38aa1": {
          "model_module": "@jupyter-widgets/controls",
          "model_name": "FloatProgressModel",
          "model_module_version": "1.5.0",
          "state": {
            "_dom_classes": [],
            "_model_module": "@jupyter-widgets/controls",
            "_model_module_version": "1.5.0",
            "_model_name": "FloatProgressModel",
            "_view_count": null,
            "_view_module": "@jupyter-widgets/controls",
            "_view_module_version": "1.5.0",
            "_view_name": "ProgressView",
            "bar_style": "success",
            "description": "",
            "description_tooltip": null,
            "layout": "IPY_MODEL_c8a7450bb97c4cbf91770e67316e5462",
            "max": 842,
            "min": 0,
            "orientation": "horizontal",
            "style": "IPY_MODEL_627616f82b6b4a828764864bac077e03",
            "value": 842
          }
        },
        "a13f3c74019242ad9adbfbdba5a1047e": {
          "model_module": "@jupyter-widgets/controls",
          "model_name": "HTMLModel",
          "model_module_version": "1.5.0",
          "state": {
            "_dom_classes": [],
            "_model_module": "@jupyter-widgets/controls",
            "_model_module_version": "1.5.0",
            "_model_name": "HTMLModel",
            "_view_count": null,
            "_view_module": "@jupyter-widgets/controls",
            "_view_module_version": "1.5.0",
            "_view_name": "HTMLView",
            "description": "",
            "description_tooltip": null,
            "layout": "IPY_MODEL_8b97c8f90e424812b5172cc6dd8200ca",
            "placeholder": "​",
            "style": "IPY_MODEL_977931c9715240a78840fc36d426c982",
            "value": " 842/842 [00:00&lt;00:00, 83.5kB/s]"
          }
        },
        "2a7243194d0c4538ae6cc3e39471ad17": {
          "model_module": "@jupyter-widgets/base",
          "model_name": "LayoutModel",
          "model_module_version": "1.2.0",
          "state": {
            "_model_module": "@jupyter-widgets/base",
            "_model_module_version": "1.2.0",
            "_model_name": "LayoutModel",
            "_view_count": null,
            "_view_module": "@jupyter-widgets/base",
            "_view_module_version": "1.2.0",
            "_view_name": "LayoutView",
            "align_content": null,
            "align_items": null,
            "align_self": null,
            "border": null,
            "bottom": null,
            "display": null,
            "flex": null,
            "flex_flow": null,
            "grid_area": null,
            "grid_auto_columns": null,
            "grid_auto_flow": null,
            "grid_auto_rows": null,
            "grid_column": null,
            "grid_gap": null,
            "grid_row": null,
            "grid_template_areas": null,
            "grid_template_columns": null,
            "grid_template_rows": null,
            "height": null,
            "justify_content": null,
            "justify_items": null,
            "left": null,
            "margin": null,
            "max_height": null,
            "max_width": null,
            "min_height": null,
            "min_width": null,
            "object_fit": null,
            "object_position": null,
            "order": null,
            "overflow": null,
            "overflow_x": null,
            "overflow_y": null,
            "padding": null,
            "right": null,
            "top": null,
            "visibility": null,
            "width": null
          }
        },
        "5c9db2266d644b0c97e0e91ebce0bad6": {
          "model_module": "@jupyter-widgets/base",
          "model_name": "LayoutModel",
          "model_module_version": "1.2.0",
          "state": {
            "_model_module": "@jupyter-widgets/base",
            "_model_module_version": "1.2.0",
            "_model_name": "LayoutModel",
            "_view_count": null,
            "_view_module": "@jupyter-widgets/base",
            "_view_module_version": "1.2.0",
            "_view_name": "LayoutView",
            "align_content": null,
            "align_items": null,
            "align_self": null,
            "border": null,
            "bottom": null,
            "display": null,
            "flex": null,
            "flex_flow": null,
            "grid_area": null,
            "grid_auto_columns": null,
            "grid_auto_flow": null,
            "grid_auto_rows": null,
            "grid_column": null,
            "grid_gap": null,
            "grid_row": null,
            "grid_template_areas": null,
            "grid_template_columns": null,
            "grid_template_rows": null,
            "height": null,
            "justify_content": null,
            "justify_items": null,
            "left": null,
            "margin": null,
            "max_height": null,
            "max_width": null,
            "min_height": null,
            "min_width": null,
            "object_fit": null,
            "object_position": null,
            "order": null,
            "overflow": null,
            "overflow_x": null,
            "overflow_y": null,
            "padding": null,
            "right": null,
            "top": null,
            "visibility": null,
            "width": null
          }
        },
        "d3166fa040b647ed9639608b1a0adc8a": {
          "model_module": "@jupyter-widgets/controls",
          "model_name": "DescriptionStyleModel",
          "model_module_version": "1.5.0",
          "state": {
            "_model_module": "@jupyter-widgets/controls",
            "_model_module_version": "1.5.0",
            "_model_name": "DescriptionStyleModel",
            "_view_count": null,
            "_view_module": "@jupyter-widgets/base",
            "_view_module_version": "1.2.0",
            "_view_name": "StyleView",
            "description_width": ""
          }
        },
        "c8a7450bb97c4cbf91770e67316e5462": {
          "model_module": "@jupyter-widgets/base",
          "model_name": "LayoutModel",
          "model_module_version": "1.2.0",
          "state": {
            "_model_module": "@jupyter-widgets/base",
            "_model_module_version": "1.2.0",
            "_model_name": "LayoutModel",
            "_view_count": null,
            "_view_module": "@jupyter-widgets/base",
            "_view_module_version": "1.2.0",
            "_view_name": "LayoutView",
            "align_content": null,
            "align_items": null,
            "align_self": null,
            "border": null,
            "bottom": null,
            "display": null,
            "flex": null,
            "flex_flow": null,
            "grid_area": null,
            "grid_auto_columns": null,
            "grid_auto_flow": null,
            "grid_auto_rows": null,
            "grid_column": null,
            "grid_gap": null,
            "grid_row": null,
            "grid_template_areas": null,
            "grid_template_columns": null,
            "grid_template_rows": null,
            "height": null,
            "justify_content": null,
            "justify_items": null,
            "left": null,
            "margin": null,
            "max_height": null,
            "max_width": null,
            "min_height": null,
            "min_width": null,
            "object_fit": null,
            "object_position": null,
            "order": null,
            "overflow": null,
            "overflow_x": null,
            "overflow_y": null,
            "padding": null,
            "right": null,
            "top": null,
            "visibility": null,
            "width": null
          }
        },
        "627616f82b6b4a828764864bac077e03": {
          "model_module": "@jupyter-widgets/controls",
          "model_name": "ProgressStyleModel",
          "model_module_version": "1.5.0",
          "state": {
            "_model_module": "@jupyter-widgets/controls",
            "_model_module_version": "1.5.0",
            "_model_name": "ProgressStyleModel",
            "_view_count": null,
            "_view_module": "@jupyter-widgets/base",
            "_view_module_version": "1.2.0",
            "_view_name": "StyleView",
            "bar_color": null,
            "description_width": ""
          }
        },
        "8b97c8f90e424812b5172cc6dd8200ca": {
          "model_module": "@jupyter-widgets/base",
          "model_name": "LayoutModel",
          "model_module_version": "1.2.0",
          "state": {
            "_model_module": "@jupyter-widgets/base",
            "_model_module_version": "1.2.0",
            "_model_name": "LayoutModel",
            "_view_count": null,
            "_view_module": "@jupyter-widgets/base",
            "_view_module_version": "1.2.0",
            "_view_name": "LayoutView",
            "align_content": null,
            "align_items": null,
            "align_self": null,
            "border": null,
            "bottom": null,
            "display": null,
            "flex": null,
            "flex_flow": null,
            "grid_area": null,
            "grid_auto_columns": null,
            "grid_auto_flow": null,
            "grid_auto_rows": null,
            "grid_column": null,
            "grid_gap": null,
            "grid_row": null,
            "grid_template_areas": null,
            "grid_template_columns": null,
            "grid_template_rows": null,
            "height": null,
            "justify_content": null,
            "justify_items": null,
            "left": null,
            "margin": null,
            "max_height": null,
            "max_width": null,
            "min_height": null,
            "min_width": null,
            "object_fit": null,
            "object_position": null,
            "order": null,
            "overflow": null,
            "overflow_x": null,
            "overflow_y": null,
            "padding": null,
            "right": null,
            "top": null,
            "visibility": null,
            "width": null
          }
        },
        "977931c9715240a78840fc36d426c982": {
          "model_module": "@jupyter-widgets/controls",
          "model_name": "DescriptionStyleModel",
          "model_module_version": "1.5.0",
          "state": {
            "_model_module": "@jupyter-widgets/controls",
            "_model_module_version": "1.5.0",
            "_model_name": "DescriptionStyleModel",
            "_view_count": null,
            "_view_module": "@jupyter-widgets/base",
            "_view_module_version": "1.2.0",
            "_view_name": "StyleView",
            "description_width": ""
          }
        },
        "445e6d86bbc64c37bdfeaf6921ba861f": {
          "model_module": "@jupyter-widgets/controls",
          "model_name": "HBoxModel",
          "model_module_version": "1.5.0",
          "state": {
            "_dom_classes": [],
            "_model_module": "@jupyter-widgets/controls",
            "_model_module_version": "1.5.0",
            "_model_name": "HBoxModel",
            "_view_count": null,
            "_view_module": "@jupyter-widgets/controls",
            "_view_module_version": "1.5.0",
            "_view_name": "HBoxView",
            "box_style": "",
            "children": [
              "IPY_MODEL_5a4fde9bfbfd4e608cff62476680a081",
              "IPY_MODEL_814e124c917248858169a07fc80d19fd",
              "IPY_MODEL_b180f30764484817ba0efc76a7ee53df"
            ],
            "layout": "IPY_MODEL_2f7dc1b0a7b34f8fb7fe03ca732b9a71"
          }
        },
        "5a4fde9bfbfd4e608cff62476680a081": {
          "model_module": "@jupyter-widgets/controls",
          "model_name": "HTMLModel",
          "model_module_version": "1.5.0",
          "state": {
            "_dom_classes": [],
            "_model_module": "@jupyter-widgets/controls",
            "_model_module_version": "1.5.0",
            "_model_name": "HTMLModel",
            "_view_count": null,
            "_view_module": "@jupyter-widgets/controls",
            "_view_module_version": "1.5.0",
            "_view_name": "HTMLView",
            "description": "",
            "description_tooltip": null,
            "layout": "IPY_MODEL_066be3767f7e44beaedc0b07b2bf4d58",
            "placeholder": "​",
            "style": "IPY_MODEL_3eb39e4d281444a18029924e9ddfb8f2",
            "value": "model.safetensors.index.json: 100%"
          }
        },
        "814e124c917248858169a07fc80d19fd": {
          "model_module": "@jupyter-widgets/controls",
          "model_name": "FloatProgressModel",
          "model_module_version": "1.5.0",
          "state": {
            "_dom_classes": [],
            "_model_module": "@jupyter-widgets/controls",
            "_model_module_version": "1.5.0",
            "_model_name": "FloatProgressModel",
            "_view_count": null,
            "_view_module": "@jupyter-widgets/controls",
            "_view_module_version": "1.5.0",
            "_view_name": "ProgressView",
            "bar_style": "success",
            "description": "",
            "description_tooltip": null,
            "layout": "IPY_MODEL_4b286b2cb9b749fbbd25915ad666864b",
            "max": 24223,
            "min": 0,
            "orientation": "horizontal",
            "style": "IPY_MODEL_07312aede1a141c08b870822df871cf5",
            "value": 24223
          }
        },
        "b180f30764484817ba0efc76a7ee53df": {
          "model_module": "@jupyter-widgets/controls",
          "model_name": "HTMLModel",
          "model_module_version": "1.5.0",
          "state": {
            "_dom_classes": [],
            "_model_module": "@jupyter-widgets/controls",
            "_model_module_version": "1.5.0",
            "_model_name": "HTMLModel",
            "_view_count": null,
            "_view_module": "@jupyter-widgets/controls",
            "_view_module_version": "1.5.0",
            "_view_name": "HTMLView",
            "description": "",
            "description_tooltip": null,
            "layout": "IPY_MODEL_ff13e645d55240ee837a0509de7992ac",
            "placeholder": "​",
            "style": "IPY_MODEL_034c92dfd52046b1a3963504d69fdef0",
            "value": " 24.2k/24.2k [00:00&lt;00:00, 1.97MB/s]"
          }
        },
        "2f7dc1b0a7b34f8fb7fe03ca732b9a71": {
          "model_module": "@jupyter-widgets/base",
          "model_name": "LayoutModel",
          "model_module_version": "1.2.0",
          "state": {
            "_model_module": "@jupyter-widgets/base",
            "_model_module_version": "1.2.0",
            "_model_name": "LayoutModel",
            "_view_count": null,
            "_view_module": "@jupyter-widgets/base",
            "_view_module_version": "1.2.0",
            "_view_name": "LayoutView",
            "align_content": null,
            "align_items": null,
            "align_self": null,
            "border": null,
            "bottom": null,
            "display": null,
            "flex": null,
            "flex_flow": null,
            "grid_area": null,
            "grid_auto_columns": null,
            "grid_auto_flow": null,
            "grid_auto_rows": null,
            "grid_column": null,
            "grid_gap": null,
            "grid_row": null,
            "grid_template_areas": null,
            "grid_template_columns": null,
            "grid_template_rows": null,
            "height": null,
            "justify_content": null,
            "justify_items": null,
            "left": null,
            "margin": null,
            "max_height": null,
            "max_width": null,
            "min_height": null,
            "min_width": null,
            "object_fit": null,
            "object_position": null,
            "order": null,
            "overflow": null,
            "overflow_x": null,
            "overflow_y": null,
            "padding": null,
            "right": null,
            "top": null,
            "visibility": null,
            "width": null
          }
        },
        "066be3767f7e44beaedc0b07b2bf4d58": {
          "model_module": "@jupyter-widgets/base",
          "model_name": "LayoutModel",
          "model_module_version": "1.2.0",
          "state": {
            "_model_module": "@jupyter-widgets/base",
            "_model_module_version": "1.2.0",
            "_model_name": "LayoutModel",
            "_view_count": null,
            "_view_module": "@jupyter-widgets/base",
            "_view_module_version": "1.2.0",
            "_view_name": "LayoutView",
            "align_content": null,
            "align_items": null,
            "align_self": null,
            "border": null,
            "bottom": null,
            "display": null,
            "flex": null,
            "flex_flow": null,
            "grid_area": null,
            "grid_auto_columns": null,
            "grid_auto_flow": null,
            "grid_auto_rows": null,
            "grid_column": null,
            "grid_gap": null,
            "grid_row": null,
            "grid_template_areas": null,
            "grid_template_columns": null,
            "grid_template_rows": null,
            "height": null,
            "justify_content": null,
            "justify_items": null,
            "left": null,
            "margin": null,
            "max_height": null,
            "max_width": null,
            "min_height": null,
            "min_width": null,
            "object_fit": null,
            "object_position": null,
            "order": null,
            "overflow": null,
            "overflow_x": null,
            "overflow_y": null,
            "padding": null,
            "right": null,
            "top": null,
            "visibility": null,
            "width": null
          }
        },
        "3eb39e4d281444a18029924e9ddfb8f2": {
          "model_module": "@jupyter-widgets/controls",
          "model_name": "DescriptionStyleModel",
          "model_module_version": "1.5.0",
          "state": {
            "_model_module": "@jupyter-widgets/controls",
            "_model_module_version": "1.5.0",
            "_model_name": "DescriptionStyleModel",
            "_view_count": null,
            "_view_module": "@jupyter-widgets/base",
            "_view_module_version": "1.2.0",
            "_view_name": "StyleView",
            "description_width": ""
          }
        },
        "4b286b2cb9b749fbbd25915ad666864b": {
          "model_module": "@jupyter-widgets/base",
          "model_name": "LayoutModel",
          "model_module_version": "1.2.0",
          "state": {
            "_model_module": "@jupyter-widgets/base",
            "_model_module_version": "1.2.0",
            "_model_name": "LayoutModel",
            "_view_count": null,
            "_view_module": "@jupyter-widgets/base",
            "_view_module_version": "1.2.0",
            "_view_name": "LayoutView",
            "align_content": null,
            "align_items": null,
            "align_self": null,
            "border": null,
            "bottom": null,
            "display": null,
            "flex": null,
            "flex_flow": null,
            "grid_area": null,
            "grid_auto_columns": null,
            "grid_auto_flow": null,
            "grid_auto_rows": null,
            "grid_column": null,
            "grid_gap": null,
            "grid_row": null,
            "grid_template_areas": null,
            "grid_template_columns": null,
            "grid_template_rows": null,
            "height": null,
            "justify_content": null,
            "justify_items": null,
            "left": null,
            "margin": null,
            "max_height": null,
            "max_width": null,
            "min_height": null,
            "min_width": null,
            "object_fit": null,
            "object_position": null,
            "order": null,
            "overflow": null,
            "overflow_x": null,
            "overflow_y": null,
            "padding": null,
            "right": null,
            "top": null,
            "visibility": null,
            "width": null
          }
        },
        "07312aede1a141c08b870822df871cf5": {
          "model_module": "@jupyter-widgets/controls",
          "model_name": "ProgressStyleModel",
          "model_module_version": "1.5.0",
          "state": {
            "_model_module": "@jupyter-widgets/controls",
            "_model_module_version": "1.5.0",
            "_model_name": "ProgressStyleModel",
            "_view_count": null,
            "_view_module": "@jupyter-widgets/base",
            "_view_module_version": "1.2.0",
            "_view_name": "StyleView",
            "bar_color": null,
            "description_width": ""
          }
        },
        "ff13e645d55240ee837a0509de7992ac": {
          "model_module": "@jupyter-widgets/base",
          "model_name": "LayoutModel",
          "model_module_version": "1.2.0",
          "state": {
            "_model_module": "@jupyter-widgets/base",
            "_model_module_version": "1.2.0",
            "_model_name": "LayoutModel",
            "_view_count": null,
            "_view_module": "@jupyter-widgets/base",
            "_view_module_version": "1.2.0",
            "_view_name": "LayoutView",
            "align_content": null,
            "align_items": null,
            "align_self": null,
            "border": null,
            "bottom": null,
            "display": null,
            "flex": null,
            "flex_flow": null,
            "grid_area": null,
            "grid_auto_columns": null,
            "grid_auto_flow": null,
            "grid_auto_rows": null,
            "grid_column": null,
            "grid_gap": null,
            "grid_row": null,
            "grid_template_areas": null,
            "grid_template_columns": null,
            "grid_template_rows": null,
            "height": null,
            "justify_content": null,
            "justify_items": null,
            "left": null,
            "margin": null,
            "max_height": null,
            "max_width": null,
            "min_height": null,
            "min_width": null,
            "object_fit": null,
            "object_position": null,
            "order": null,
            "overflow": null,
            "overflow_x": null,
            "overflow_y": null,
            "padding": null,
            "right": null,
            "top": null,
            "visibility": null,
            "width": null
          }
        },
        "034c92dfd52046b1a3963504d69fdef0": {
          "model_module": "@jupyter-widgets/controls",
          "model_name": "DescriptionStyleModel",
          "model_module_version": "1.5.0",
          "state": {
            "_model_module": "@jupyter-widgets/controls",
            "_model_module_version": "1.5.0",
            "_model_name": "DescriptionStyleModel",
            "_view_count": null,
            "_view_module": "@jupyter-widgets/base",
            "_view_module_version": "1.2.0",
            "_view_name": "StyleView",
            "description_width": ""
          }
        },
        "aa94bbda6bff472cbfc481503c7513c7": {
          "model_module": "@jupyter-widgets/controls",
          "model_name": "HBoxModel",
          "model_module_version": "1.5.0",
          "state": {
            "_dom_classes": [],
            "_model_module": "@jupyter-widgets/controls",
            "_model_module_version": "1.5.0",
            "_model_name": "HBoxModel",
            "_view_count": null,
            "_view_module": "@jupyter-widgets/controls",
            "_view_module_version": "1.5.0",
            "_view_name": "HBoxView",
            "box_style": "",
            "children": [
              "IPY_MODEL_f0b17dffa2cb4f6ebd1fdaf8baebad4e",
              "IPY_MODEL_15f3dd60d008404fa7e2be59afa5a001",
              "IPY_MODEL_1a5168579e844d7fae6f7d857c3fef20"
            ],
            "layout": "IPY_MODEL_a9bbb0da3db2408597b5dc5fbdfdde7c"
          }
        },
        "f0b17dffa2cb4f6ebd1fdaf8baebad4e": {
          "model_module": "@jupyter-widgets/controls",
          "model_name": "HTMLModel",
          "model_module_version": "1.5.0",
          "state": {
            "_dom_classes": [],
            "_model_module": "@jupyter-widgets/controls",
            "_model_module_version": "1.5.0",
            "_model_name": "HTMLModel",
            "_view_count": null,
            "_view_module": "@jupyter-widgets/controls",
            "_view_module_version": "1.5.0",
            "_view_name": "HTMLView",
            "description": "",
            "description_tooltip": null,
            "layout": "IPY_MODEL_e68af7d8028e4b44b6e904651427535b",
            "placeholder": "​",
            "style": "IPY_MODEL_501f9fb1e41042b78b9c71b452553183",
            "value": "model-00001-of-00002.safetensors: 100%"
          }
        },
        "15f3dd60d008404fa7e2be59afa5a001": {
          "model_module": "@jupyter-widgets/controls",
          "model_name": "FloatProgressModel",
          "model_module_version": "1.5.0",
          "state": {
            "_dom_classes": [],
            "_model_module": "@jupyter-widgets/controls",
            "_model_module_version": "1.5.0",
            "_model_name": "FloatProgressModel",
            "_view_count": null,
            "_view_module": "@jupyter-widgets/controls",
            "_view_module_version": "1.5.0",
            "_view_name": "ProgressView",
            "bar_style": "success",
            "description": "",
            "description_tooltip": null,
            "layout": "IPY_MODEL_2b0ba0a3e8c14f13a9d41d25f3eb6613",
            "max": 4988025760,
            "min": 0,
            "orientation": "horizontal",
            "style": "IPY_MODEL_f6dbc93a6b1845de97a419c2f2d3f6ff",
            "value": 4988025760
          }
        },
        "1a5168579e844d7fae6f7d857c3fef20": {
          "model_module": "@jupyter-widgets/controls",
          "model_name": "HTMLModel",
          "model_module_version": "1.5.0",
          "state": {
            "_dom_classes": [],
            "_model_module": "@jupyter-widgets/controls",
            "_model_module_version": "1.5.0",
            "_model_name": "HTMLModel",
            "_view_count": null,
            "_view_module": "@jupyter-widgets/controls",
            "_view_module_version": "1.5.0",
            "_view_name": "HTMLView",
            "description": "",
            "description_tooltip": null,
            "layout": "IPY_MODEL_b2b6d0e75956428ea13cfff4facfd783",
            "placeholder": "​",
            "style": "IPY_MODEL_65bf4f2f5f954b0485886f92f1d64f96",
            "value": " 4.99G/4.99G [01:58&lt;00:00, 42.7MB/s]"
          }
        },
        "a9bbb0da3db2408597b5dc5fbdfdde7c": {
          "model_module": "@jupyter-widgets/base",
          "model_name": "LayoutModel",
          "model_module_version": "1.2.0",
          "state": {
            "_model_module": "@jupyter-widgets/base",
            "_model_module_version": "1.2.0",
            "_model_name": "LayoutModel",
            "_view_count": null,
            "_view_module": "@jupyter-widgets/base",
            "_view_module_version": "1.2.0",
            "_view_name": "LayoutView",
            "align_content": null,
            "align_items": null,
            "align_self": null,
            "border": null,
            "bottom": null,
            "display": null,
            "flex": null,
            "flex_flow": null,
            "grid_area": null,
            "grid_auto_columns": null,
            "grid_auto_flow": null,
            "grid_auto_rows": null,
            "grid_column": null,
            "grid_gap": null,
            "grid_row": null,
            "grid_template_areas": null,
            "grid_template_columns": null,
            "grid_template_rows": null,
            "height": null,
            "justify_content": null,
            "justify_items": null,
            "left": null,
            "margin": null,
            "max_height": null,
            "max_width": null,
            "min_height": null,
            "min_width": null,
            "object_fit": null,
            "object_position": null,
            "order": null,
            "overflow": null,
            "overflow_x": null,
            "overflow_y": null,
            "padding": null,
            "right": null,
            "top": null,
            "visibility": null,
            "width": null
          }
        },
        "e68af7d8028e4b44b6e904651427535b": {
          "model_module": "@jupyter-widgets/base",
          "model_name": "LayoutModel",
          "model_module_version": "1.2.0",
          "state": {
            "_model_module": "@jupyter-widgets/base",
            "_model_module_version": "1.2.0",
            "_model_name": "LayoutModel",
            "_view_count": null,
            "_view_module": "@jupyter-widgets/base",
            "_view_module_version": "1.2.0",
            "_view_name": "LayoutView",
            "align_content": null,
            "align_items": null,
            "align_self": null,
            "border": null,
            "bottom": null,
            "display": null,
            "flex": null,
            "flex_flow": null,
            "grid_area": null,
            "grid_auto_columns": null,
            "grid_auto_flow": null,
            "grid_auto_rows": null,
            "grid_column": null,
            "grid_gap": null,
            "grid_row": null,
            "grid_template_areas": null,
            "grid_template_columns": null,
            "grid_template_rows": null,
            "height": null,
            "justify_content": null,
            "justify_items": null,
            "left": null,
            "margin": null,
            "max_height": null,
            "max_width": null,
            "min_height": null,
            "min_width": null,
            "object_fit": null,
            "object_position": null,
            "order": null,
            "overflow": null,
            "overflow_x": null,
            "overflow_y": null,
            "padding": null,
            "right": null,
            "top": null,
            "visibility": null,
            "width": null
          }
        },
        "501f9fb1e41042b78b9c71b452553183": {
          "model_module": "@jupyter-widgets/controls",
          "model_name": "DescriptionStyleModel",
          "model_module_version": "1.5.0",
          "state": {
            "_model_module": "@jupyter-widgets/controls",
            "_model_module_version": "1.5.0",
            "_model_name": "DescriptionStyleModel",
            "_view_count": null,
            "_view_module": "@jupyter-widgets/base",
            "_view_module_version": "1.2.0",
            "_view_name": "StyleView",
            "description_width": ""
          }
        },
        "2b0ba0a3e8c14f13a9d41d25f3eb6613": {
          "model_module": "@jupyter-widgets/base",
          "model_name": "LayoutModel",
          "model_module_version": "1.2.0",
          "state": {
            "_model_module": "@jupyter-widgets/base",
            "_model_module_version": "1.2.0",
            "_model_name": "LayoutModel",
            "_view_count": null,
            "_view_module": "@jupyter-widgets/base",
            "_view_module_version": "1.2.0",
            "_view_name": "LayoutView",
            "align_content": null,
            "align_items": null,
            "align_self": null,
            "border": null,
            "bottom": null,
            "display": null,
            "flex": null,
            "flex_flow": null,
            "grid_area": null,
            "grid_auto_columns": null,
            "grid_auto_flow": null,
            "grid_auto_rows": null,
            "grid_column": null,
            "grid_gap": null,
            "grid_row": null,
            "grid_template_areas": null,
            "grid_template_columns": null,
            "grid_template_rows": null,
            "height": null,
            "justify_content": null,
            "justify_items": null,
            "left": null,
            "margin": null,
            "max_height": null,
            "max_width": null,
            "min_height": null,
            "min_width": null,
            "object_fit": null,
            "object_position": null,
            "order": null,
            "overflow": null,
            "overflow_x": null,
            "overflow_y": null,
            "padding": null,
            "right": null,
            "top": null,
            "visibility": null,
            "width": null
          }
        },
        "f6dbc93a6b1845de97a419c2f2d3f6ff": {
          "model_module": "@jupyter-widgets/controls",
          "model_name": "ProgressStyleModel",
          "model_module_version": "1.5.0",
          "state": {
            "_model_module": "@jupyter-widgets/controls",
            "_model_module_version": "1.5.0",
            "_model_name": "ProgressStyleModel",
            "_view_count": null,
            "_view_module": "@jupyter-widgets/base",
            "_view_module_version": "1.2.0",
            "_view_name": "StyleView",
            "bar_color": null,
            "description_width": ""
          }
        },
        "b2b6d0e75956428ea13cfff4facfd783": {
          "model_module": "@jupyter-widgets/base",
          "model_name": "LayoutModel",
          "model_module_version": "1.2.0",
          "state": {
            "_model_module": "@jupyter-widgets/base",
            "_model_module_version": "1.2.0",
            "_model_name": "LayoutModel",
            "_view_count": null,
            "_view_module": "@jupyter-widgets/base",
            "_view_module_version": "1.2.0",
            "_view_name": "LayoutView",
            "align_content": null,
            "align_items": null,
            "align_self": null,
            "border": null,
            "bottom": null,
            "display": null,
            "flex": null,
            "flex_flow": null,
            "grid_area": null,
            "grid_auto_columns": null,
            "grid_auto_flow": null,
            "grid_auto_rows": null,
            "grid_column": null,
            "grid_gap": null,
            "grid_row": null,
            "grid_template_areas": null,
            "grid_template_columns": null,
            "grid_template_rows": null,
            "height": null,
            "justify_content": null,
            "justify_items": null,
            "left": null,
            "margin": null,
            "max_height": null,
            "max_width": null,
            "min_height": null,
            "min_width": null,
            "object_fit": null,
            "object_position": null,
            "order": null,
            "overflow": null,
            "overflow_x": null,
            "overflow_y": null,
            "padding": null,
            "right": null,
            "top": null,
            "visibility": null,
            "width": null
          }
        },
        "65bf4f2f5f954b0485886f92f1d64f96": {
          "model_module": "@jupyter-widgets/controls",
          "model_name": "DescriptionStyleModel",
          "model_module_version": "1.5.0",
          "state": {
            "_model_module": "@jupyter-widgets/controls",
            "_model_module_version": "1.5.0",
            "_model_name": "DescriptionStyleModel",
            "_view_count": null,
            "_view_module": "@jupyter-widgets/base",
            "_view_module_version": "1.2.0",
            "_view_name": "StyleView",
            "description_width": ""
          }
        },
        "364c2df68410478b9df0947994f3ccc6": {
          "model_module": "@jupyter-widgets/controls",
          "model_name": "HBoxModel",
          "model_module_version": "1.5.0",
          "state": {
            "_dom_classes": [],
            "_model_module": "@jupyter-widgets/controls",
            "_model_module_version": "1.5.0",
            "_model_name": "HBoxModel",
            "_view_count": null,
            "_view_module": "@jupyter-widgets/controls",
            "_view_module_version": "1.5.0",
            "_view_name": "HBoxView",
            "box_style": "",
            "children": [
              "IPY_MODEL_f01d34e6eac442c0af5c3cf527718eed",
              "IPY_MODEL_cac8dc5e19014fa88bcda4af0fda3ff5",
              "IPY_MODEL_9453c56a86f6420ca6ea0c762786ce14"
            ],
            "layout": "IPY_MODEL_312288a4256b41a0b9244be7c1d39b64"
          }
        },
        "f01d34e6eac442c0af5c3cf527718eed": {
          "model_module": "@jupyter-widgets/controls",
          "model_name": "HTMLModel",
          "model_module_version": "1.5.0",
          "state": {
            "_dom_classes": [],
            "_model_module": "@jupyter-widgets/controls",
            "_model_module_version": "1.5.0",
            "_model_name": "HTMLModel",
            "_view_count": null,
            "_view_module": "@jupyter-widgets/controls",
            "_view_module_version": "1.5.0",
            "_view_name": "HTMLView",
            "description": "",
            "description_tooltip": null,
            "layout": "IPY_MODEL_5aa2a9a706b74669b359b86850cdf153",
            "placeholder": "​",
            "style": "IPY_MODEL_976438034cce435fadc29c7be8a617be",
            "value": "model-00002-of-00002.safetensors: 100%"
          }
        },
        "cac8dc5e19014fa88bcda4af0fda3ff5": {
          "model_module": "@jupyter-widgets/controls",
          "model_name": "FloatProgressModel",
          "model_module_version": "1.5.0",
          "state": {
            "_dom_classes": [],
            "_model_module": "@jupyter-widgets/controls",
            "_model_module_version": "1.5.0",
            "_model_name": "FloatProgressModel",
            "_view_count": null,
            "_view_module": "@jupyter-widgets/controls",
            "_view_module_version": "1.5.0",
            "_view_name": "ProgressView",
            "bar_style": "success",
            "description": "",
            "description_tooltip": null,
            "layout": "IPY_MODEL_ac8fcf52900c4026a4ada1427979985b",
            "max": 240691728,
            "min": 0,
            "orientation": "horizontal",
            "style": "IPY_MODEL_81e027adc90d40c39edf513351f66ec1",
            "value": 240691728
          }
        },
        "9453c56a86f6420ca6ea0c762786ce14": {
          "model_module": "@jupyter-widgets/controls",
          "model_name": "HTMLModel",
          "model_module_version": "1.5.0",
          "state": {
            "_dom_classes": [],
            "_model_module": "@jupyter-widgets/controls",
            "_model_module_version": "1.5.0",
            "_model_name": "HTMLModel",
            "_view_count": null,
            "_view_module": "@jupyter-widgets/controls",
            "_view_module_version": "1.5.0",
            "_view_name": "HTMLView",
            "description": "",
            "description_tooltip": null,
            "layout": "IPY_MODEL_0b1c8bdee9104c25885d6cb2e4d0f288",
            "placeholder": "​",
            "style": "IPY_MODEL_1b1bb023489c45bc9269ec2167493267",
            "value": " 241M/241M [00:05&lt;00:00, 42.6MB/s]"
          }
        },
        "312288a4256b41a0b9244be7c1d39b64": {
          "model_module": "@jupyter-widgets/base",
          "model_name": "LayoutModel",
          "model_module_version": "1.2.0",
          "state": {
            "_model_module": "@jupyter-widgets/base",
            "_model_module_version": "1.2.0",
            "_model_name": "LayoutModel",
            "_view_count": null,
            "_view_module": "@jupyter-widgets/base",
            "_view_module_version": "1.2.0",
            "_view_name": "LayoutView",
            "align_content": null,
            "align_items": null,
            "align_self": null,
            "border": null,
            "bottom": null,
            "display": null,
            "flex": null,
            "flex_flow": null,
            "grid_area": null,
            "grid_auto_columns": null,
            "grid_auto_flow": null,
            "grid_auto_rows": null,
            "grid_column": null,
            "grid_gap": null,
            "grid_row": null,
            "grid_template_areas": null,
            "grid_template_columns": null,
            "grid_template_rows": null,
            "height": null,
            "justify_content": null,
            "justify_items": null,
            "left": null,
            "margin": null,
            "max_height": null,
            "max_width": null,
            "min_height": null,
            "min_width": null,
            "object_fit": null,
            "object_position": null,
            "order": null,
            "overflow": null,
            "overflow_x": null,
            "overflow_y": null,
            "padding": null,
            "right": null,
            "top": null,
            "visibility": null,
            "width": null
          }
        },
        "5aa2a9a706b74669b359b86850cdf153": {
          "model_module": "@jupyter-widgets/base",
          "model_name": "LayoutModel",
          "model_module_version": "1.2.0",
          "state": {
            "_model_module": "@jupyter-widgets/base",
            "_model_module_version": "1.2.0",
            "_model_name": "LayoutModel",
            "_view_count": null,
            "_view_module": "@jupyter-widgets/base",
            "_view_module_version": "1.2.0",
            "_view_name": "LayoutView",
            "align_content": null,
            "align_items": null,
            "align_self": null,
            "border": null,
            "bottom": null,
            "display": null,
            "flex": null,
            "flex_flow": null,
            "grid_area": null,
            "grid_auto_columns": null,
            "grid_auto_flow": null,
            "grid_auto_rows": null,
            "grid_column": null,
            "grid_gap": null,
            "grid_row": null,
            "grid_template_areas": null,
            "grid_template_columns": null,
            "grid_template_rows": null,
            "height": null,
            "justify_content": null,
            "justify_items": null,
            "left": null,
            "margin": null,
            "max_height": null,
            "max_width": null,
            "min_height": null,
            "min_width": null,
            "object_fit": null,
            "object_position": null,
            "order": null,
            "overflow": null,
            "overflow_x": null,
            "overflow_y": null,
            "padding": null,
            "right": null,
            "top": null,
            "visibility": null,
            "width": null
          }
        },
        "976438034cce435fadc29c7be8a617be": {
          "model_module": "@jupyter-widgets/controls",
          "model_name": "DescriptionStyleModel",
          "model_module_version": "1.5.0",
          "state": {
            "_model_module": "@jupyter-widgets/controls",
            "_model_module_version": "1.5.0",
            "_model_name": "DescriptionStyleModel",
            "_view_count": null,
            "_view_module": "@jupyter-widgets/base",
            "_view_module_version": "1.2.0",
            "_view_name": "StyleView",
            "description_width": ""
          }
        },
        "ac8fcf52900c4026a4ada1427979985b": {
          "model_module": "@jupyter-widgets/base",
          "model_name": "LayoutModel",
          "model_module_version": "1.2.0",
          "state": {
            "_model_module": "@jupyter-widgets/base",
            "_model_module_version": "1.2.0",
            "_model_name": "LayoutModel",
            "_view_count": null,
            "_view_module": "@jupyter-widgets/base",
            "_view_module_version": "1.2.0",
            "_view_name": "LayoutView",
            "align_content": null,
            "align_items": null,
            "align_self": null,
            "border": null,
            "bottom": null,
            "display": null,
            "flex": null,
            "flex_flow": null,
            "grid_area": null,
            "grid_auto_columns": null,
            "grid_auto_flow": null,
            "grid_auto_rows": null,
            "grid_column": null,
            "grid_gap": null,
            "grid_row": null,
            "grid_template_areas": null,
            "grid_template_columns": null,
            "grid_template_rows": null,
            "height": null,
            "justify_content": null,
            "justify_items": null,
            "left": null,
            "margin": null,
            "max_height": null,
            "max_width": null,
            "min_height": null,
            "min_width": null,
            "object_fit": null,
            "object_position": null,
            "order": null,
            "overflow": null,
            "overflow_x": null,
            "overflow_y": null,
            "padding": null,
            "right": null,
            "top": null,
            "visibility": null,
            "width": null
          }
        },
        "81e027adc90d40c39edf513351f66ec1": {
          "model_module": "@jupyter-widgets/controls",
          "model_name": "ProgressStyleModel",
          "model_module_version": "1.5.0",
          "state": {
            "_model_module": "@jupyter-widgets/controls",
            "_model_module_version": "1.5.0",
            "_model_name": "ProgressStyleModel",
            "_view_count": null,
            "_view_module": "@jupyter-widgets/base",
            "_view_module_version": "1.2.0",
            "_view_name": "StyleView",
            "bar_color": null,
            "description_width": ""
          }
        },
        "0b1c8bdee9104c25885d6cb2e4d0f288": {
          "model_module": "@jupyter-widgets/base",
          "model_name": "LayoutModel",
          "model_module_version": "1.2.0",
          "state": {
            "_model_module": "@jupyter-widgets/base",
            "_model_module_version": "1.2.0",
            "_model_name": "LayoutModel",
            "_view_count": null,
            "_view_module": "@jupyter-widgets/base",
            "_view_module_version": "1.2.0",
            "_view_name": "LayoutView",
            "align_content": null,
            "align_items": null,
            "align_self": null,
            "border": null,
            "bottom": null,
            "display": null,
            "flex": null,
            "flex_flow": null,
            "grid_area": null,
            "grid_auto_columns": null,
            "grid_auto_flow": null,
            "grid_auto_rows": null,
            "grid_column": null,
            "grid_gap": null,
            "grid_row": null,
            "grid_template_areas": null,
            "grid_template_columns": null,
            "grid_template_rows": null,
            "height": null,
            "justify_content": null,
            "justify_items": null,
            "left": null,
            "margin": null,
            "max_height": null,
            "max_width": null,
            "min_height": null,
            "min_width": null,
            "object_fit": null,
            "object_position": null,
            "order": null,
            "overflow": null,
            "overflow_x": null,
            "overflow_y": null,
            "padding": null,
            "right": null,
            "top": null,
            "visibility": null,
            "width": null
          }
        },
        "1b1bb023489c45bc9269ec2167493267": {
          "model_module": "@jupyter-widgets/controls",
          "model_name": "DescriptionStyleModel",
          "model_module_version": "1.5.0",
          "state": {
            "_model_module": "@jupyter-widgets/controls",
            "_model_module_version": "1.5.0",
            "_model_name": "DescriptionStyleModel",
            "_view_count": null,
            "_view_module": "@jupyter-widgets/base",
            "_view_module_version": "1.2.0",
            "_view_name": "StyleView",
            "description_width": ""
          }
        },
        "69a41f4203bd4d5ba43af18bc3586d7d": {
          "model_module": "@jupyter-widgets/controls",
          "model_name": "HBoxModel",
          "model_module_version": "1.5.0",
          "state": {
            "_dom_classes": [],
            "_model_module": "@jupyter-widgets/controls",
            "_model_module_version": "1.5.0",
            "_model_name": "HBoxModel",
            "_view_count": null,
            "_view_module": "@jupyter-widgets/controls",
            "_view_module_version": "1.5.0",
            "_view_name": "HBoxView",
            "box_style": "",
            "children": [
              "IPY_MODEL_eb429f00c3294be6b5c31fe4307c4c9c",
              "IPY_MODEL_84d396146fdb41c2b91c4d3bed9cf2b3",
              "IPY_MODEL_64f993c7c1f54df790d758c5a84398fc"
            ],
            "layout": "IPY_MODEL_b9c6e0bdc7fe4e099ef61f7b0340394c"
          }
        },
        "eb429f00c3294be6b5c31fe4307c4c9c": {
          "model_module": "@jupyter-widgets/controls",
          "model_name": "HTMLModel",
          "model_module_version": "1.5.0",
          "state": {
            "_dom_classes": [],
            "_model_module": "@jupyter-widgets/controls",
            "_model_module_version": "1.5.0",
            "_model_name": "HTMLModel",
            "_view_count": null,
            "_view_module": "@jupyter-widgets/controls",
            "_view_module_version": "1.5.0",
            "_view_name": "HTMLView",
            "description": "",
            "description_tooltip": null,
            "layout": "IPY_MODEL_063f2177df3b43dfb349df32cef440ce",
            "placeholder": "​",
            "style": "IPY_MODEL_e84b9cd9631b46d8b9c2fc8a4fe79b91",
            "value": "tokenizer.model: 100%"
          }
        },
        "84d396146fdb41c2b91c4d3bed9cf2b3": {
          "model_module": "@jupyter-widgets/controls",
          "model_name": "FloatProgressModel",
          "model_module_version": "1.5.0",
          "state": {
            "_dom_classes": [],
            "_model_module": "@jupyter-widgets/controls",
            "_model_module_version": "1.5.0",
            "_model_name": "FloatProgressModel",
            "_view_count": null,
            "_view_module": "@jupyter-widgets/controls",
            "_view_module_version": "1.5.0",
            "_view_name": "ProgressView",
            "bar_style": "success",
            "description": "",
            "description_tooltip": null,
            "layout": "IPY_MODEL_c069c171a57241d7a4a953e0d22c0ff8",
            "max": 4241003,
            "min": 0,
            "orientation": "horizontal",
            "style": "IPY_MODEL_354dd8f76adf44098911666b879af68a",
            "value": 4241003
          }
        },
        "64f993c7c1f54df790d758c5a84398fc": {
          "model_module": "@jupyter-widgets/controls",
          "model_name": "HTMLModel",
          "model_module_version": "1.5.0",
          "state": {
            "_dom_classes": [],
            "_model_module": "@jupyter-widgets/controls",
            "_model_module_version": "1.5.0",
            "_model_name": "HTMLModel",
            "_view_count": null,
            "_view_module": "@jupyter-widgets/controls",
            "_view_module_version": "1.5.0",
            "_view_name": "HTMLView",
            "description": "",
            "description_tooltip": null,
            "layout": "IPY_MODEL_9e6bc81911c24b20ba15e2602484c332",
            "placeholder": "​",
            "style": "IPY_MODEL_83a1299e6326487ab030e8215510f16d",
            "value": " 4.24M/4.24M [00:00&lt;00:00, 42.6MB/s]"
          }
        },
        "b9c6e0bdc7fe4e099ef61f7b0340394c": {
          "model_module": "@jupyter-widgets/base",
          "model_name": "LayoutModel",
          "model_module_version": "1.2.0",
          "state": {
            "_model_module": "@jupyter-widgets/base",
            "_model_module_version": "1.2.0",
            "_model_name": "LayoutModel",
            "_view_count": null,
            "_view_module": "@jupyter-widgets/base",
            "_view_module_version": "1.2.0",
            "_view_name": "LayoutView",
            "align_content": null,
            "align_items": null,
            "align_self": null,
            "border": null,
            "bottom": null,
            "display": null,
            "flex": null,
            "flex_flow": null,
            "grid_area": null,
            "grid_auto_columns": null,
            "grid_auto_flow": null,
            "grid_auto_rows": null,
            "grid_column": null,
            "grid_gap": null,
            "grid_row": null,
            "grid_template_areas": null,
            "grid_template_columns": null,
            "grid_template_rows": null,
            "height": null,
            "justify_content": null,
            "justify_items": null,
            "left": null,
            "margin": null,
            "max_height": null,
            "max_width": null,
            "min_height": null,
            "min_width": null,
            "object_fit": null,
            "object_position": null,
            "order": null,
            "overflow": null,
            "overflow_x": null,
            "overflow_y": null,
            "padding": null,
            "right": null,
            "top": null,
            "visibility": null,
            "width": null
          }
        },
        "063f2177df3b43dfb349df32cef440ce": {
          "model_module": "@jupyter-widgets/base",
          "model_name": "LayoutModel",
          "model_module_version": "1.2.0",
          "state": {
            "_model_module": "@jupyter-widgets/base",
            "_model_module_version": "1.2.0",
            "_model_name": "LayoutModel",
            "_view_count": null,
            "_view_module": "@jupyter-widgets/base",
            "_view_module_version": "1.2.0",
            "_view_name": "LayoutView",
            "align_content": null,
            "align_items": null,
            "align_self": null,
            "border": null,
            "bottom": null,
            "display": null,
            "flex": null,
            "flex_flow": null,
            "grid_area": null,
            "grid_auto_columns": null,
            "grid_auto_flow": null,
            "grid_auto_rows": null,
            "grid_column": null,
            "grid_gap": null,
            "grid_row": null,
            "grid_template_areas": null,
            "grid_template_columns": null,
            "grid_template_rows": null,
            "height": null,
            "justify_content": null,
            "justify_items": null,
            "left": null,
            "margin": null,
            "max_height": null,
            "max_width": null,
            "min_height": null,
            "min_width": null,
            "object_fit": null,
            "object_position": null,
            "order": null,
            "overflow": null,
            "overflow_x": null,
            "overflow_y": null,
            "padding": null,
            "right": null,
            "top": null,
            "visibility": null,
            "width": null
          }
        },
        "e84b9cd9631b46d8b9c2fc8a4fe79b91": {
          "model_module": "@jupyter-widgets/controls",
          "model_name": "DescriptionStyleModel",
          "model_module_version": "1.5.0",
          "state": {
            "_model_module": "@jupyter-widgets/controls",
            "_model_module_version": "1.5.0",
            "_model_name": "DescriptionStyleModel",
            "_view_count": null,
            "_view_module": "@jupyter-widgets/base",
            "_view_module_version": "1.2.0",
            "_view_name": "StyleView",
            "description_width": ""
          }
        },
        "c069c171a57241d7a4a953e0d22c0ff8": {
          "model_module": "@jupyter-widgets/base",
          "model_name": "LayoutModel",
          "model_module_version": "1.2.0",
          "state": {
            "_model_module": "@jupyter-widgets/base",
            "_model_module_version": "1.2.0",
            "_model_name": "LayoutModel",
            "_view_count": null,
            "_view_module": "@jupyter-widgets/base",
            "_view_module_version": "1.2.0",
            "_view_name": "LayoutView",
            "align_content": null,
            "align_items": null,
            "align_self": null,
            "border": null,
            "bottom": null,
            "display": null,
            "flex": null,
            "flex_flow": null,
            "grid_area": null,
            "grid_auto_columns": null,
            "grid_auto_flow": null,
            "grid_auto_rows": null,
            "grid_column": null,
            "grid_gap": null,
            "grid_row": null,
            "grid_template_areas": null,
            "grid_template_columns": null,
            "grid_template_rows": null,
            "height": null,
            "justify_content": null,
            "justify_items": null,
            "left": null,
            "margin": null,
            "max_height": null,
            "max_width": null,
            "min_height": null,
            "min_width": null,
            "object_fit": null,
            "object_position": null,
            "order": null,
            "overflow": null,
            "overflow_x": null,
            "overflow_y": null,
            "padding": null,
            "right": null,
            "top": null,
            "visibility": null,
            "width": null
          }
        },
        "354dd8f76adf44098911666b879af68a": {
          "model_module": "@jupyter-widgets/controls",
          "model_name": "ProgressStyleModel",
          "model_module_version": "1.5.0",
          "state": {
            "_model_module": "@jupyter-widgets/controls",
            "_model_module_version": "1.5.0",
            "_model_name": "ProgressStyleModel",
            "_view_count": null,
            "_view_module": "@jupyter-widgets/base",
            "_view_module_version": "1.2.0",
            "_view_name": "StyleView",
            "bar_color": null,
            "description_width": ""
          }
        },
        "9e6bc81911c24b20ba15e2602484c332": {
          "model_module": "@jupyter-widgets/base",
          "model_name": "LayoutModel",
          "model_module_version": "1.2.0",
          "state": {
            "_model_module": "@jupyter-widgets/base",
            "_model_module_version": "1.2.0",
            "_model_name": "LayoutModel",
            "_view_count": null,
            "_view_module": "@jupyter-widgets/base",
            "_view_module_version": "1.2.0",
            "_view_name": "LayoutView",
            "align_content": null,
            "align_items": null,
            "align_self": null,
            "border": null,
            "bottom": null,
            "display": null,
            "flex": null,
            "flex_flow": null,
            "grid_area": null,
            "grid_auto_columns": null,
            "grid_auto_flow": null,
            "grid_auto_rows": null,
            "grid_column": null,
            "grid_gap": null,
            "grid_row": null,
            "grid_template_areas": null,
            "grid_template_columns": null,
            "grid_template_rows": null,
            "height": null,
            "justify_content": null,
            "justify_items": null,
            "left": null,
            "margin": null,
            "max_height": null,
            "max_width": null,
            "min_height": null,
            "min_width": null,
            "object_fit": null,
            "object_position": null,
            "order": null,
            "overflow": null,
            "overflow_x": null,
            "overflow_y": null,
            "padding": null,
            "right": null,
            "top": null,
            "visibility": null,
            "width": null
          }
        },
        "83a1299e6326487ab030e8215510f16d": {
          "model_module": "@jupyter-widgets/controls",
          "model_name": "DescriptionStyleModel",
          "model_module_version": "1.5.0",
          "state": {
            "_model_module": "@jupyter-widgets/controls",
            "_model_module_version": "1.5.0",
            "_model_name": "DescriptionStyleModel",
            "_view_count": null,
            "_view_module": "@jupyter-widgets/base",
            "_view_module_version": "1.2.0",
            "_view_name": "StyleView",
            "description_width": ""
          }
        }
      }
    }
  },
  "nbformat": 4,
  "nbformat_minor": 5
}